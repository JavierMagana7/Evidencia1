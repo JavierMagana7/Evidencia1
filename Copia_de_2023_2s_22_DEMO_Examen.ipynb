{
  "nbformat": 4,
  "nbformat_minor": 0,
  "metadata": {
    "colab": {
      "provenance": []
    },
    "kernelspec": {
      "name": "python3",
      "display_name": "Python 3"
    },
    "language_info": {
      "name": "python"
    }
  },
  "cells": [
    {
      "cell_type": "markdown",
      "source": [
        "# **DEMO Examen**"
      ],
      "metadata": {
        "id": "efHadp-bFuAY"
      }
    },
    {
      "cell_type": "markdown",
      "source": [
        "Poner lista de participantes de equipo aquí (tabla markdown):\n",
        "\n",
        "| Nombre        | Matrícula     |\n",
        "|---------------|---------------|\n",
        "| AYALA CONTRERAS AMERICO AZAEL    | 2064391     |\n",
        "| CARIAGA ROSALES IVAN ALEJANDRO   | 2018493     |\n",
        "| GARCIA DELGADO JONATHAN JAHIR  | 2001587     |\n",
        "| MAGAÑA LOPEZ JAVIER | 2175516     |\n",
        "| RAMIREZ VIRGEN FRANCISCO JAVIER | 1995889     |"
      ],
      "metadata": {
        "id": "lO92aRr_IX0b"
      }
    },
    {
      "cell_type": "markdown",
      "source": [
        "La fórmula para calcular grados centígrados a partir de grados Farenheit es la siguiente:\n",
        "\n",
        "```\n",
        "C=(F-32)/1.8\n",
        "```\n",
        "\n",
        "La temperatura del cuerpo tiene las siguientes temperaturas:\n",
        "\n",
        "|Rango|Nombre de estado|\n",
        "|---|---|\n",
        "|[*,35)|Hipotermia|\n",
        "|[35,37)|Normal|\n",
        "|[37,38)|Febrícula|\n",
        "|[38,41)|Fiebre|\n",
        "|[41,*)|Hiperpirexia|\n",
        "\n",
        "En un hospital se hizo lectura de todos los pacientes de un piso. Desafortunadamente, solo se tenía un termónmetro que mide grados Farenheit.\n",
        "\n",
        "Se desea un programa que capture múltiples temperaturas, y que cuando se deje de capturar, muestre una lista de todas las lecturas tomadas.\n",
        "\n",
        "Se pide elaborar un programa en Python que contenga:\n",
        "\n",
        "1.  Una función llamada **capturar_f**, que pregunte un dato y que valide lo sigiente:\n",
        "    1. Que el dato no se omita.\n",
        "    1. Que el dato se apegue al patrón de uno a tres dígitos, un punto, y de una a tres decimales (debe validarse con regular expressions).\n",
        "    1. Que el valor convertido a floar esté entre 0.0 y 150.0\n",
        "    1. La función recibe como argumento un parámetro llamado **prompt**, que deberá tener un valor por omisión de \"Dame un número flotante:\"\n",
        "    1. La función retorna un valor flotante, que corrsponde a una conversión a float de lo capturado.\n",
        "    1. La función pregunta el dato hasta que sea correcto.\n",
        "    1. La función muestra mensajes de error de 3 niveles (Error, detalle, llamada a la acción).\n",
        "\n",
        "1. El programa debe definir una clase llamada **lectura**, que contenga lo siguiente:\n",
        "    1. **grados_f**: Es un atributo expuesto, de tipo float, que corresponde a la temperatura del paciente.\n",
        "    1. **grados_c**: Es una propiedad expuesta, que calcula el equivalente a centígrados de **grados_f**.\n",
        "    1. **estado**: Es una propiedad expuesta, que determina el estado de temperatura de la persona, de acuerdo a la tabla de estados.\n",
        "    1. **mostrar_lectura**: Es un método que muestra en consola el siguiente mensaje:\n",
        "\n",
        "```\n",
        "Farenheit: {grados_f}\n",
        "Centigrados: {grados_c}\n",
        "Estado: {estado}\n",
        "```\n",
        "\n",
        "La clase debe tener un método constructor, que reciba la propiedad **grados_f**.\n",
        "\n",
        "El programa principal debe hacer lo siguiente.\n",
        "\n",
        "1. Declarar una lista llamada **lecturas**, que almacenará todos los objetos de tipo **lectura** que se generen.\n",
        "1. Deberá iniciar un ciclo infinito.\n",
        "    1. Deberá preguntar la lectura usando la función **capturar_f**, especificando como prompt el texto \"Dame la temperatura del paciente:\"\n",
        "    1. Recibido el dato, se debe agregar a la lista de objetos (**lecturas**) una instancia de **lectura**, donde se utilice el dato capturado.\n",
        "    1. El programa debe preguntar si desea capturar una lectura más. Si es así, ``continue``, de lo contrario, ``break``.\n",
        "\n",
        "Fuera del ciclo, se debe leer de forma secuencial la lista de objetos, y ejecutar el método **mostrar_lectura**, para ver lo capturado.\n"
      ],
      "metadata": {
        "id": "oag6MUEIF4Jc"
      }
    },
    {
      "cell_type": "code",
      "source": [
        "import re\n",
        "\n",
        "# Función para capturar una temperatura\n",
        "def capturar_f(prompt=\"Dame un número flotante:\"):\n",
        "    while True:\n",
        "        try:\n",
        "            temperatura = input(prompt)\n",
        "            if not temperatura:\n",
        "                raise ValueError(\"Error: El dato no puede estar vacío.\")\n",
        "            if not re.match(r'^\\d{1,3}\\.\\d{1,3}$', temperatura):\n",
        "                raise ValueError(\"Error: Formato incorrecto. Debe ser uno a tres dígitos, un punto y uno a tres decimales.\")\n",
        "            temperatura_float = float(temperatura)\n",
        "            if temperatura_float < 0.0 or temperatura_float > 150.0:\n",
        "                raise ValueError(\"Error: El valor debe estar entre 0.0 y 150.0.\")\n",
        "            break\n",
        "        except ValueError as e:\n",
        "            print(\"Error:\", e)\n",
        "            print(\"Detalle: Por favor, ingrese una temperatura válida.\")\n",
        "            print(\"Acción: Intente nuevamente.\")\n",
        "    return temperatura_float\n",
        "# Clase para representar una lectura de temperatura\n",
        "grados_f=[0.0]\n",
        "class Lectura:\n",
        "    def __init__(self, grados_f):\n",
        "        self.grados_f = grados_f\n",
        "\n",
        "    @property\n",
        "    def grados_c(self):\n",
        "        return (self.grados_f - 32) * 5/9\n",
        "\n",
        "    @property\n",
        "    def estado(self):\n",
        "        if self.grados_f < 35.0:\n",
        "            return \"Hipotermia\"\n",
        "        elif self.grados_f < 37.0:\n",
        "            return \"Normal\"\n",
        "        elif self.grados_f < 38.0:\n",
        "            return \"Febrícula\"\n",
        "        elif self.grados_f < 41.0:\n",
        "            return \"Fiebre\"\n",
        "        else:\n",
        "            return \"Hiperpirexia\"\n",
        "\n",
        "    def mostrar_lectura(self):\n",
        "        print(f\"Fahrenheit: {self.grados_f}\")\n",
        "        print(f\"Celsius: {self.grados_c}\")\n",
        "        print(f\"Estado: {self.estado}\")\n",
        "\n",
        "# Programa principal\n",
        "lecturas = []\n",
        "while True:\n",
        "    try:\n",
        "        grados_f = capturar_f(\"Dame la temperatura del paciente: \")\n",
        "        lectura = Lectura(grados_f)\n",
        "        lecturas.append(lectura)\n",
        "\n",
        "        respuesta = input(\"¿Desea capturar otra lectura? (S/N): \")\n",
        "        if respuesta.upper() != \"S\":\n",
        "            break\n",
        "    except KeyboardInterrupt:\n",
        "        print(\"\\nPrograma interrumpido.\")\n",
        "        break\n",
        "\n",
        "print(\"\\nResumen de lecturas:\")\n",
        "for i, lectura in enumerate(lecturas, start=1):\n",
        "    print(f\"Lectura {i}:\")\n",
        "    lectura.mostrar_lectura()\n",
        "    print()\n"
      ],
      "metadata": {
        "colab": {
          "base_uri": "https://localhost:8080/"
        },
        "id": "q3FKKxinspc1",
        "outputId": "2a147ad7-2ca6-4b32-aa12-78e2429ca578"
      },
      "execution_count": null,
      "outputs": [
        {
          "output_type": "stream",
          "name": "stdout",
          "text": [
            "Dame la temperatura del paciente: 36.0\n",
            "¿Desea capturar otra lectura? (S/N): s\n",
            "Dame la temperatura del paciente: 36.0\n",
            "¿Desea capturar otra lectura? (S/N): s\n",
            "Dame la temperatura del paciente: 37.0\n",
            "¿Desea capturar otra lectura? (S/N): n\n",
            "\n",
            "Resumen de lecturas:\n",
            "Lectura 1:\n",
            "Fahrenheit: 36.0\n",
            "Celsius: 2.2222222222222223\n",
            "Estado: Normal\n",
            "\n",
            "Lectura 2:\n",
            "Fahrenheit: 36.0\n",
            "Celsius: 2.2222222222222223\n",
            "Estado: Normal\n",
            "\n",
            "Lectura 3:\n",
            "Fahrenheit: 37.0\n",
            "Celsius: 2.7777777777777777\n",
            "Estado: Febrícula\n",
            "\n"
          ]
        }
      ]
    }
  ]
}